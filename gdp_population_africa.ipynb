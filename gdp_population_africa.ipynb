{
 "cells": [
  {
   "cell_type": "markdown",
   "id": "2181b96f-e7be-4717-9651-7ab810c33e2e",
   "metadata": {},
   "source": [
    "# Population and GDP Analysis of Africa"
   ]
  },
  {
   "cell_type": "markdown",
   "id": "be930511-9402-433c-b099-c54cb649a1ae",
   "metadata": {},
   "source": [
    "## Introduction"
   ]
  }
 ],
 "metadata": {
  "kernelspec": {
   "display_name": "Python 3 (ipykernel)",
   "language": "python",
   "name": "python3"
  },
  "language_info": {
   "codemirror_mode": {
    "name": "ipython",
    "version": 3
   },
   "file_extension": ".py",
   "mimetype": "text/x-python",
   "name": "python",
   "nbconvert_exporter": "python",
   "pygments_lexer": "ipython3",
   "version": "3.10.9"
  }
 },
 "nbformat": 4,
 "nbformat_minor": 5
}
